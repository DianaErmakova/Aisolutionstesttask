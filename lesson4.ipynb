{
  "nbformat": 4,
  "nbformat_minor": 0,
  "metadata": {
    "colab": {
      "provenance": []
    },
    "kernelspec": {
      "name": "python3",
      "display_name": "Python 3"
    },
    "language_info": {
      "name": "python"
    }
  },
  "cells": [
    {
      "cell_type": "markdown",
      "source": [
        "#Урок4"
      ],
      "metadata": {
        "id": "A0YUPYHRrV9-"
      }
    },
    {
      "cell_type": "markdown",
      "source": [
        "На этом уроке мы разработаем интерактивное приложение с использованием Gradio, которое позволяет пользователям вводить данные о времени на обучение, количестве неудач и предыдущих оценках."
      ],
      "metadata": {
        "id": "HMO9DyoD6QSR"
      }
    },
    {
      "cell_type": "code",
      "source": [
        "import gradio as gr  # импортируем библиотеку gradio для создания веб-интерфейса\n",
        "import numpy as np  # импортируем numpy для работы с массивами и математическими функциями\n",
        "from sklearn.linear_model import LogisticRegression  # импортируем модель логистической регрессии (не используем здесь, но для примера)\n",
        "\n",
        "# для примера создадим простую обученную модель\n",
        "# обычно модель обучается на реальных данных, здесь - заглушка\n",
        "\n",
        "# примерные коэффициенты для признаков (studytime, failures, previous grades)\n",
        "coef = np.array([-0.6, -0.4, 1.5])  # коэффициенты модели, показывают влияние каждого признака на итог\n",
        "intercept = -0.1  # свободный член модели (сдвиг)\n",
        "\n",
        "def predict(studytime, failures, prev_grades):\n",
        "    # формируем массив признаков из входных значений\n",
        "    X = np.array([studytime, failures, prev_grades])\n",
        "    # вычисляем линейную комбинацию признаков с коэффициентами и смещением (логит)\n",
        "    logit = intercept + np.dot(coef, X)\n",
        "    # вычисляем вероятность с помощью сигмоидной функции\n",
        "    prob = 1 / (1 + np.exp(-logit))\n",
        "    # определяем класс в зависимости от порога 0.5\n",
        "    pred_class = \"Сдаст\" if prob >= 0.5 else \"Не сдаст\"\n",
        "\n",
        "    # создаём словарь с влиянием каждого фактора\n",
        "    impacts = {\n",
        "        \"Время на учебу\": coef[0],\n",
        "        \"Неудачи\": coef[1],\n",
        "        \"Предыдущие оценки\": coef[2]\n",
        "    }\n",
        "    # формируем строку с объяснением влияния факторов\n",
        "    explanation = \"Влияние факторов на результат:\\n\"\n",
        "    for factor, weight in impacts.items():\n",
        "        # определяем, положительное или отрицательное влияние\n",
        "        sign = \"положительное\" if weight > 0 else \"отрицательное\"\n",
        "        explanation += f\"- {factor}: {sign} ({weight})\\n\"\n",
        "\n",
        "    # добавляем к объяснению вероятность и итоговый прогноз\n",
        "    explanation += f\"\\nВероятность сдачи: {prob:.2f}\\nПрогноз: {pred_class}\"\n",
        "    return pred_class, explanation  # возвращаем прогноз и объяснение\n",
        "\n",
        "# создаём интерфейс Gradio с функцией predict\n",
        "iface = gr.Interface(\n",
        "    fn=predict,  # функция, которая будет вызываться при вводе данных\n",
        "    inputs=[  # задаём элементы ввода для пользователя\n",
        "        gr.Slider(0, 5, step=1, label=\"Время на учебу (study time)\"),  # слайдер для времени на учебу\n",
        "        gr.Slider(0, 5, step=1, label=\"Количество неудач (failures)\"),  # слайдер для числа неудач\n",
        "        gr.Slider(0, 5, step=1, label=\"Предыдущие оценки (previous grades)\")  # слайдер для предыдущих оценок\n",
        "    ],\n",
        "    outputs=[  # задаём элементы вывода результата\n",
        "        gr.Textbox(label=\"Прогноз\"),  # текстовое поле с прогнозом (сдаст/не сдаст)\n",
        "        gr.Textbox(label=\"Объяснение\")  # текстовое поле с объяснением влияния признаков\n",
        "    ],\n",
        "    title=\"Прогноз успешности сдачи экзамена\",  # заголовок интерфейса\n",
        "    description=\"Введите параметры, чтобы узнать вероятность сдачи и понять влияние факторов.\"  # описание интерфейса\n",
        ")\n",
        "\n",
        "iface.launch()  # запускаем веб-интерфейс для взаимодействия с пользователем\n"
      ],
      "metadata": {
        "colab": {
          "base_uri": "https://localhost:8080/",
          "height": 645
        },
        "id": "lWkXsb7j6Ptb",
        "outputId": "5a431509-a5f5-4a2f-c933-c87343b0a016"
      },
      "execution_count": null,
      "outputs": [
        {
          "output_type": "stream",
          "name": "stdout",
          "text": [
            "It looks like you are running Gradio on a hosted a Jupyter notebook. For the Gradio app to work, sharing must be enabled. Automatically setting `share=True` (you can turn this off by setting `share=False` in `launch()` explicitly).\n",
            "\n",
            "Colab notebook detected. To show errors in colab notebook, set debug=True in launch()\n",
            "* Running on public URL: https://55d7cea2c15bb45df3.gradio.live\n",
            "\n",
            "This share link expires in 1 week. For free permanent hosting and GPU upgrades, run `gradio deploy` from the terminal in the working directory to deploy to Hugging Face Spaces (https://huggingface.co/spaces)\n"
          ]
        },
        {
          "output_type": "display_data",
          "data": {
            "text/plain": [
              "<IPython.core.display.HTML object>"
            ],
            "text/html": [
              "<div><iframe src=\"https://55d7cea2c15bb45df3.gradio.live\" width=\"100%\" height=\"500\" allow=\"autoplay; camera; microphone; clipboard-read; clipboard-write;\" frameborder=\"0\" allowfullscreen></iframe></div>"
            ]
          },
          "metadata": {}
        },
        {
          "output_type": "execute_result",
          "data": {
            "text/plain": []
          },
          "metadata": {},
          "execution_count": 40
        }
      ]
    },
    {
      "cell_type": "markdown",
      "source": [
        "Мы создали небольшое веб-приложение с помощью Gradio — это удобная библиотека, которая позволяет быстро сделать интерактивный интерфейс для модели машинного обучения.\n",
        "\n",
        "В нашем приложении пользователь может ввести три важных параметра:\n",
        "\n",
        "* **время, потраченное на учебу (study time),**\n",
        "* **количество неудач или провалов (failures),**\n",
        "* **предыдущие оценки (previous grades).**\n",
        "\n",
        "На основе этих данных модель логистической регрессии делает прогноз — сдаст студент экзамен или нет. Результат показывается сразу после ввода.\n",
        "\n",
        "Кроме самого предсказания, приложение также объясняет, почему модель сделала именно такой вывод, например, какие признаки повлияли на решение сильнее всего.\n",
        "\n",
        "Кроме того, приложение мотивирует студентов и пользователей экспериментировать с параметрами — менять значения и смотреть, как меняется предсказание, что помогает лучше понять, какие факторы влияют на успех в учебе и как можно улучшить модель.\n"
      ],
      "metadata": {
        "id": "weSbS1LH7NfJ"
      }
    },
    {
      "cell_type": "markdown",
      "source": [
        "Поздравляем, вы создали свою первую модель для предсказания успеха на экзамене! Но на этом работа не заканчивается. Модели можно делать лучше — повышать точность, учитывать больше факторов и делать прогнозы более справедливыми.\n",
        "\n",
        "Попробуйте сами:\n",
        "\n",
        "* Добавьте новые признаки\n",
        "* Используйте другие алгоритмы, например, случайный лес (Random Forest)\n",
        "* Примените методы кросс-валидации для оценки модел\n",
        "* Проанализируйте, не дискриминирует ли модель разные группы студентов и исправьте это\n",
        "\n",
        "Эксперименты с моделью — отличный способ учиться и создавать действительно полезные инструменты!"
      ],
      "metadata": {
        "id": "cRFSI7U09G-B"
      }
    }
  ]
}